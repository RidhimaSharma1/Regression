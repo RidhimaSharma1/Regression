{
  "nbformat": 4,
  "nbformat_minor": 0,
  "metadata": {
    "colab": {
      "name": "AIMLCEP_RidhimaSharma_Q1.ipynb",
      "provenance": [],
      "collapsed_sections": []
    },
    "kernelspec": {
      "name": "python3",
      "display_name": "Python 3"
    },
    "language_info": {
      "name": "python"
    }
  },
  "cells": [
    {
      "cell_type": "code",
      "execution_count": null,
      "metadata": {
        "id": "AtnMxD3Dj9O-"
      },
      "outputs": [],
      "source": [
        "import numpy as np\n",
        "import pandas as pd\n",
        "data_train=pd.read_excel('Q1_train.xlsx')\n",
        "data_test=pd.read_excel('Q1_test.xlsx')"
      ]
    },
    {
      "cell_type": "code",
      "source": [
        "data_train.head()"
      ],
      "metadata": {
        "colab": {
          "base_uri": "https://localhost:8080/",
          "height": 206
        },
        "id": "iq_zM-upk6rb",
        "outputId": "0830b7df-ba26-4cf2-feda-d625105ad74c"
      },
      "execution_count": null,
      "outputs": [
        {
          "output_type": "execute_result",
          "data": {
            "text/html": [
              "\n",
              "  <div id=\"df-6c77bb13-356b-4a80-842c-20fe6318c1af\">\n",
              "    <div class=\"colab-df-container\">\n",
              "      <div>\n",
              "<style scoped>\n",
              "    .dataframe tbody tr th:only-of-type {\n",
              "        vertical-align: middle;\n",
              "    }\n",
              "\n",
              "    .dataframe tbody tr th {\n",
              "        vertical-align: top;\n",
              "    }\n",
              "\n",
              "    .dataframe thead th {\n",
              "        text-align: right;\n",
              "    }\n",
              "</style>\n",
              "<table border=\"1\" class=\"dataframe\">\n",
              "  <thead>\n",
              "    <tr style=\"text-align: right;\">\n",
              "      <th></th>\n",
              "      <th>Species</th>\n",
              "      <th>Length_cm</th>\n",
              "      <th>Height_pct</th>\n",
              "      <th>Width_pct</th>\n",
              "      <th>Weight_g</th>\n",
              "    </tr>\n",
              "  </thead>\n",
              "  <tbody>\n",
              "    <tr>\n",
              "      <th>0</th>\n",
              "      <td>1</td>\n",
              "      <td>30.0</td>\n",
              "      <td>38.4</td>\n",
              "      <td>13.4</td>\n",
              "      <td>242.0</td>\n",
              "    </tr>\n",
              "    <tr>\n",
              "      <th>1</th>\n",
              "      <td>1</td>\n",
              "      <td>31.2</td>\n",
              "      <td>40.0</td>\n",
              "      <td>13.8</td>\n",
              "      <td>290.0</td>\n",
              "    </tr>\n",
              "    <tr>\n",
              "      <th>2</th>\n",
              "      <td>1</td>\n",
              "      <td>31.1</td>\n",
              "      <td>39.8</td>\n",
              "      <td>15.1</td>\n",
              "      <td>340.0</td>\n",
              "    </tr>\n",
              "    <tr>\n",
              "      <th>3</th>\n",
              "      <td>1</td>\n",
              "      <td>33.5</td>\n",
              "      <td>38.0</td>\n",
              "      <td>13.3</td>\n",
              "      <td>363.0</td>\n",
              "    </tr>\n",
              "    <tr>\n",
              "      <th>4</th>\n",
              "      <td>1</td>\n",
              "      <td>34.0</td>\n",
              "      <td>36.6</td>\n",
              "      <td>15.1</td>\n",
              "      <td>430.0</td>\n",
              "    </tr>\n",
              "  </tbody>\n",
              "</table>\n",
              "</div>\n",
              "      <button class=\"colab-df-convert\" onclick=\"convertToInteractive('df-6c77bb13-356b-4a80-842c-20fe6318c1af')\"\n",
              "              title=\"Convert this dataframe to an interactive table.\"\n",
              "              style=\"display:none;\">\n",
              "        \n",
              "  <svg xmlns=\"http://www.w3.org/2000/svg\" height=\"24px\"viewBox=\"0 0 24 24\"\n",
              "       width=\"24px\">\n",
              "    <path d=\"M0 0h24v24H0V0z\" fill=\"none\"/>\n",
              "    <path d=\"M18.56 5.44l.94 2.06.94-2.06 2.06-.94-2.06-.94-.94-2.06-.94 2.06-2.06.94zm-11 1L8.5 8.5l.94-2.06 2.06-.94-2.06-.94L8.5 2.5l-.94 2.06-2.06.94zm10 10l.94 2.06.94-2.06 2.06-.94-2.06-.94-.94-2.06-.94 2.06-2.06.94z\"/><path d=\"M17.41 7.96l-1.37-1.37c-.4-.4-.92-.59-1.43-.59-.52 0-1.04.2-1.43.59L10.3 9.45l-7.72 7.72c-.78.78-.78 2.05 0 2.83L4 21.41c.39.39.9.59 1.41.59.51 0 1.02-.2 1.41-.59l7.78-7.78 2.81-2.81c.8-.78.8-2.07 0-2.86zM5.41 20L4 18.59l7.72-7.72 1.47 1.35L5.41 20z\"/>\n",
              "  </svg>\n",
              "      </button>\n",
              "      \n",
              "  <style>\n",
              "    .colab-df-container {\n",
              "      display:flex;\n",
              "      flex-wrap:wrap;\n",
              "      gap: 12px;\n",
              "    }\n",
              "\n",
              "    .colab-df-convert {\n",
              "      background-color: #E8F0FE;\n",
              "      border: none;\n",
              "      border-radius: 50%;\n",
              "      cursor: pointer;\n",
              "      display: none;\n",
              "      fill: #1967D2;\n",
              "      height: 32px;\n",
              "      padding: 0 0 0 0;\n",
              "      width: 32px;\n",
              "    }\n",
              "\n",
              "    .colab-df-convert:hover {\n",
              "      background-color: #E2EBFA;\n",
              "      box-shadow: 0px 1px 2px rgba(60, 64, 67, 0.3), 0px 1px 3px 1px rgba(60, 64, 67, 0.15);\n",
              "      fill: #174EA6;\n",
              "    }\n",
              "\n",
              "    [theme=dark] .colab-df-convert {\n",
              "      background-color: #3B4455;\n",
              "      fill: #D2E3FC;\n",
              "    }\n",
              "\n",
              "    [theme=dark] .colab-df-convert:hover {\n",
              "      background-color: #434B5C;\n",
              "      box-shadow: 0px 1px 3px 1px rgba(0, 0, 0, 0.15);\n",
              "      filter: drop-shadow(0px 1px 2px rgba(0, 0, 0, 0.3));\n",
              "      fill: #FFFFFF;\n",
              "    }\n",
              "  </style>\n",
              "\n",
              "      <script>\n",
              "        const buttonEl =\n",
              "          document.querySelector('#df-6c77bb13-356b-4a80-842c-20fe6318c1af button.colab-df-convert');\n",
              "        buttonEl.style.display =\n",
              "          google.colab.kernel.accessAllowed ? 'block' : 'none';\n",
              "\n",
              "        async function convertToInteractive(key) {\n",
              "          const element = document.querySelector('#df-6c77bb13-356b-4a80-842c-20fe6318c1af');\n",
              "          const dataTable =\n",
              "            await google.colab.kernel.invokeFunction('convertToInteractive',\n",
              "                                                     [key], {});\n",
              "          if (!dataTable) return;\n",
              "\n",
              "          const docLinkHtml = 'Like what you see? Visit the ' +\n",
              "            '<a target=\"_blank\" href=https://colab.research.google.com/notebooks/data_table.ipynb>data table notebook</a>'\n",
              "            + ' to learn more about interactive tables.';\n",
              "          element.innerHTML = '';\n",
              "          dataTable['output_type'] = 'display_data';\n",
              "          await google.colab.output.renderOutput(dataTable, element);\n",
              "          const docLink = document.createElement('div');\n",
              "          docLink.innerHTML = docLinkHtml;\n",
              "          element.appendChild(docLink);\n",
              "        }\n",
              "      </script>\n",
              "    </div>\n",
              "  </div>\n",
              "  "
            ],
            "text/plain": [
              "   Species  Length_cm  Height_pct  Width_pct  Weight_g\n",
              "0        1       30.0        38.4       13.4     242.0\n",
              "1        1       31.2        40.0       13.8     290.0\n",
              "2        1       31.1        39.8       15.1     340.0\n",
              "3        1       33.5        38.0       13.3     363.0\n",
              "4        1       34.0        36.6       15.1     430.0"
            ]
          },
          "metadata": {},
          "execution_count": 2
        }
      ]
    },
    {
      "cell_type": "code",
      "source": [
        "data_test.head()"
      ],
      "metadata": {
        "colab": {
          "base_uri": "https://localhost:8080/",
          "height": 206
        },
        "id": "sRGDvAgP4tW-",
        "outputId": "f0e48e43-c74b-4cfd-bb73-1858a501630d"
      },
      "execution_count": null,
      "outputs": [
        {
          "output_type": "execute_result",
          "data": {
            "text/html": [
              "\n",
              "  <div id=\"df-375e177c-3bd9-4f37-ba46-8897d3fae39a\">\n",
              "    <div class=\"colab-df-container\">\n",
              "      <div>\n",
              "<style scoped>\n",
              "    .dataframe tbody tr th:only-of-type {\n",
              "        vertical-align: middle;\n",
              "    }\n",
              "\n",
              "    .dataframe tbody tr th {\n",
              "        vertical-align: top;\n",
              "    }\n",
              "\n",
              "    .dataframe thead th {\n",
              "        text-align: right;\n",
              "    }\n",
              "</style>\n",
              "<table border=\"1\" class=\"dataframe\">\n",
              "  <thead>\n",
              "    <tr style=\"text-align: right;\">\n",
              "      <th></th>\n",
              "      <th>Species</th>\n",
              "      <th>Length_cm</th>\n",
              "      <th>Height_pct</th>\n",
              "      <th>Width_pct</th>\n",
              "      <th>Weight_g</th>\n",
              "    </tr>\n",
              "  </thead>\n",
              "  <tbody>\n",
              "    <tr>\n",
              "      <th>0</th>\n",
              "      <td>1</td>\n",
              "      <td>34.7</td>\n",
              "      <td>39.2</td>\n",
              "      <td>14.2</td>\n",
              "      <td>NaN</td>\n",
              "    </tr>\n",
              "    <tr>\n",
              "      <th>1</th>\n",
              "      <td>1</td>\n",
              "      <td>39.5</td>\n",
              "      <td>38.3</td>\n",
              "      <td>14.1</td>\n",
              "      <td>NaN</td>\n",
              "    </tr>\n",
              "    <tr>\n",
              "      <th>2</th>\n",
              "      <td>1</td>\n",
              "      <td>46.5</td>\n",
              "      <td>37.9</td>\n",
              "      <td>13.7</td>\n",
              "      <td>NaN</td>\n",
              "    </tr>\n",
              "    <tr>\n",
              "      <th>3</th>\n",
              "      <td>1</td>\n",
              "      <td>41.5</td>\n",
              "      <td>39.8</td>\n",
              "      <td>14.1</td>\n",
              "      <td>NaN</td>\n",
              "    </tr>\n",
              "    <tr>\n",
              "      <th>4</th>\n",
              "      <td>1</td>\n",
              "      <td>35.1</td>\n",
              "      <td>39.9</td>\n",
              "      <td>13.8</td>\n",
              "      <td>NaN</td>\n",
              "    </tr>\n",
              "  </tbody>\n",
              "</table>\n",
              "</div>\n",
              "      <button class=\"colab-df-convert\" onclick=\"convertToInteractive('df-375e177c-3bd9-4f37-ba46-8897d3fae39a')\"\n",
              "              title=\"Convert this dataframe to an interactive table.\"\n",
              "              style=\"display:none;\">\n",
              "        \n",
              "  <svg xmlns=\"http://www.w3.org/2000/svg\" height=\"24px\"viewBox=\"0 0 24 24\"\n",
              "       width=\"24px\">\n",
              "    <path d=\"M0 0h24v24H0V0z\" fill=\"none\"/>\n",
              "    <path d=\"M18.56 5.44l.94 2.06.94-2.06 2.06-.94-2.06-.94-.94-2.06-.94 2.06-2.06.94zm-11 1L8.5 8.5l.94-2.06 2.06-.94-2.06-.94L8.5 2.5l-.94 2.06-2.06.94zm10 10l.94 2.06.94-2.06 2.06-.94-2.06-.94-.94-2.06-.94 2.06-2.06.94z\"/><path d=\"M17.41 7.96l-1.37-1.37c-.4-.4-.92-.59-1.43-.59-.52 0-1.04.2-1.43.59L10.3 9.45l-7.72 7.72c-.78.78-.78 2.05 0 2.83L4 21.41c.39.39.9.59 1.41.59.51 0 1.02-.2 1.41-.59l7.78-7.78 2.81-2.81c.8-.78.8-2.07 0-2.86zM5.41 20L4 18.59l7.72-7.72 1.47 1.35L5.41 20z\"/>\n",
              "  </svg>\n",
              "      </button>\n",
              "      \n",
              "  <style>\n",
              "    .colab-df-container {\n",
              "      display:flex;\n",
              "      flex-wrap:wrap;\n",
              "      gap: 12px;\n",
              "    }\n",
              "\n",
              "    .colab-df-convert {\n",
              "      background-color: #E8F0FE;\n",
              "      border: none;\n",
              "      border-radius: 50%;\n",
              "      cursor: pointer;\n",
              "      display: none;\n",
              "      fill: #1967D2;\n",
              "      height: 32px;\n",
              "      padding: 0 0 0 0;\n",
              "      width: 32px;\n",
              "    }\n",
              "\n",
              "    .colab-df-convert:hover {\n",
              "      background-color: #E2EBFA;\n",
              "      box-shadow: 0px 1px 2px rgba(60, 64, 67, 0.3), 0px 1px 3px 1px rgba(60, 64, 67, 0.15);\n",
              "      fill: #174EA6;\n",
              "    }\n",
              "\n",
              "    [theme=dark] .colab-df-convert {\n",
              "      background-color: #3B4455;\n",
              "      fill: #D2E3FC;\n",
              "    }\n",
              "\n",
              "    [theme=dark] .colab-df-convert:hover {\n",
              "      background-color: #434B5C;\n",
              "      box-shadow: 0px 1px 3px 1px rgba(0, 0, 0, 0.15);\n",
              "      filter: drop-shadow(0px 1px 2px rgba(0, 0, 0, 0.3));\n",
              "      fill: #FFFFFF;\n",
              "    }\n",
              "  </style>\n",
              "\n",
              "      <script>\n",
              "        const buttonEl =\n",
              "          document.querySelector('#df-375e177c-3bd9-4f37-ba46-8897d3fae39a button.colab-df-convert');\n",
              "        buttonEl.style.display =\n",
              "          google.colab.kernel.accessAllowed ? 'block' : 'none';\n",
              "\n",
              "        async function convertToInteractive(key) {\n",
              "          const element = document.querySelector('#df-375e177c-3bd9-4f37-ba46-8897d3fae39a');\n",
              "          const dataTable =\n",
              "            await google.colab.kernel.invokeFunction('convertToInteractive',\n",
              "                                                     [key], {});\n",
              "          if (!dataTable) return;\n",
              "\n",
              "          const docLinkHtml = 'Like what you see? Visit the ' +\n",
              "            '<a target=\"_blank\" href=https://colab.research.google.com/notebooks/data_table.ipynb>data table notebook</a>'\n",
              "            + ' to learn more about interactive tables.';\n",
              "          element.innerHTML = '';\n",
              "          dataTable['output_type'] = 'display_data';\n",
              "          await google.colab.output.renderOutput(dataTable, element);\n",
              "          const docLink = document.createElement('div');\n",
              "          docLink.innerHTML = docLinkHtml;\n",
              "          element.appendChild(docLink);\n",
              "        }\n",
              "      </script>\n",
              "    </div>\n",
              "  </div>\n",
              "  "
            ],
            "text/plain": [
              "   Species  Length_cm  Height_pct  Width_pct  Weight_g\n",
              "0        1       34.7        39.2       14.2       NaN\n",
              "1        1       39.5        38.3       14.1       NaN\n",
              "2        1       46.5        37.9       13.7       NaN\n",
              "3        1       41.5        39.8       14.1       NaN\n",
              "4        1       35.1        39.9       13.8       NaN"
            ]
          },
          "metadata": {},
          "execution_count": 3
        }
      ]
    },
    {
      "cell_type": "code",
      "source": [
        "#pip install seaborn\n",
        "import seaborn as sns\n",
        "corr=data_train.corr()\n",
        "sns.set(rc = {'figure.figsize':(20,10)})\n",
        "sns.heatmap(corr, annot=True)"
      ],
      "metadata": {
        "colab": {
          "base_uri": "https://localhost:8080/",
          "height": 559
        },
        "id": "CNdiSjcc1lRE",
        "outputId": "da2d04fe-fdea-4251-f5f8-3b67c998c566"
      },
      "execution_count": null,
      "outputs": [
        {
          "output_type": "execute_result",
          "data": {
            "text/plain": [
              "<matplotlib.axes._subplots.AxesSubplot at 0x7f31bcf05890>"
            ]
          },
          "metadata": {},
          "execution_count": 4
        },
        {
          "output_type": "display_data",
          "data": {
            "image/png": "[encoded data removed]",
            "text/plain": [
              "<Figure size 1440x720 with 2 Axes>"
            ]
          },
          "metadata": {}
        }
      ]
    },
    {
      "cell_type": "code",
      "source": [
        "sns.scatterplot(x=data_train['Species'], y=data_train['Weight_g'])\n",
        "sns.scatterplot(x=data_train['Height_pct'], y=data_train['Weight_g'])\n",
        "sns.scatterplot(x=data_train['Width_pct'], y=data_train['Weight_g'])\n",
        "sns.scatterplot(x=data_train['Length_cm'], y=data_train['Weight_g'])"
      ],
      "metadata": {
        "colab": {
          "base_uri": "https://localhost:8080/",
          "height": 648
        },
        "id": "yxssAG5KWmlg",
        "outputId": "dcc29a80-9284-4c49-a153-74235060faea"
      },
      "execution_count": null,
      "outputs": [
        {
          "output_type": "execute_result",
          "data": {
            "text/plain": [
              "<matplotlib.axes._subplots.AxesSubplot at 0x7f31a82ae310>"
            ]
          },
          "metadata": {},
          "execution_count": 68
        },
        {
          "output_type": "display_data",
          "data": {
            "image/png": "[encoded data removed]",
            "text/plain": [
              "<Figure size 1440x720 with 1 Axes>"
            ]
          },
          "metadata": {}
        }
      ]
    },
    {
      "cell_type": "code",
      "source": [
        "y_train = data_train[\"Weight_g\"]\n",
        "cols = [0,1,2,3]\n",
        "X_train = data_train[data_train.columns[cols]]\n",
        "X_train1 = data_train[data_train.columns[cols1]]\n",
        "X_train.head()"
      ],
      "metadata": {
        "colab": {
          "base_uri": "https://localhost:8080/",
          "height": 206
        },
        "id": "2f5nhbLs43kI",
        "outputId": "9e811672-bf28-4251-aeb7-247197a838ad"
      },
      "execution_count": null,
      "outputs": [
        {
          "output_type": "execute_result",
          "data": {
            "text/html": [
              "\n",
              "  <div id=\"df-420d36a3-95f8-40f9-b87e-ec595ef19d5d\">\n",
              "    <div class=\"colab-df-container\">\n",
              "      <div>\n",
              "<style scoped>\n",
              "    .dataframe tbody tr th:only-of-type {\n",
              "        vertical-align: middle;\n",
              "    }\n",
              "\n",
              "    .dataframe tbody tr th {\n",
              "        vertical-align: top;\n",
              "    }\n",
              "\n",
              "    .dataframe thead th {\n",
              "        text-align: right;\n",
              "    }\n",
              "</style>\n",
              "<table border=\"1\" class=\"dataframe\">\n",
              "  <thead>\n",
              "    <tr style=\"text-align: right;\">\n",
              "      <th></th>\n",
              "      <th>Species</th>\n",
              "      <th>Length_cm</th>\n",
              "      <th>Height_pct</th>\n",
              "      <th>Width_pct</th>\n",
              "    </tr>\n",
              "  </thead>\n",
              "  <tbody>\n",
              "    <tr>\n",
              "      <th>0</th>\n",
              "      <td>1</td>\n",
              "      <td>30.0</td>\n",
              "      <td>38.4</td>\n",
              "      <td>13.4</td>\n",
              "    </tr>\n",
              "    <tr>\n",
              "      <th>1</th>\n",
              "      <td>1</td>\n",
              "      <td>31.2</td>\n",
              "      <td>40.0</td>\n",
              "      <td>13.8</td>\n",
              "    </tr>\n",
              "    <tr>\n",
              "      <th>2</th>\n",
              "      <td>1</td>\n",
              "      <td>31.1</td>\n",
              "      <td>39.8</td>\n",
              "      <td>15.1</td>\n",
              "    </tr>\n",
              "    <tr>\n",
              "      <th>3</th>\n",
              "      <td>1</td>\n",
              "      <td>33.5</td>\n",
              "      <td>38.0</td>\n",
              "      <td>13.3</td>\n",
              "    </tr>\n",
              "    <tr>\n",
              "      <th>4</th>\n",
              "      <td>1</td>\n",
              "      <td>34.0</td>\n",
              "      <td>36.6</td>\n",
              "      <td>15.1</td>\n",
              "    </tr>\n",
              "  </tbody>\n",
              "</table>\n",
              "</div>\n",
              "      <button class=\"colab-df-convert\" onclick=\"convertToInteractive('df-420d36a3-95f8-40f9-b87e-ec595ef19d5d')\"\n",
              "              title=\"Convert this dataframe to an interactive table.\"\n",
              "              style=\"display:none;\">\n",
              "        \n",
              "  <svg xmlns=\"http://www.w3.org/2000/svg\" height=\"24px\"viewBox=\"0 0 24 24\"\n",
              "       width=\"24px\">\n",
              "    <path d=\"M0 0h24v24H0V0z\" fill=\"none\"/>\n",
              "    <path d=\"M18.56 5.44l.94 2.06.94-2.06 2.06-.94-2.06-.94-.94-2.06-.94 2.06-2.06.94zm-11 1L8.5 8.5l.94-2.06 2.06-.94-2.06-.94L8.5 2.5l-.94 2.06-2.06.94zm10 10l.94 2.06.94-2.06 2.06-.94-2.06-.94-.94-2.06-.94 2.06-2.06.94z\"/><path d=\"M17.41 7.96l-1.37-1.37c-.4-.4-.92-.59-1.43-.59-.52 0-1.04.2-1.43.59L10.3 9.45l-7.72 7.72c-.78.78-.78 2.05 0 2.83L4 21.41c.39.39.9.59 1.41.59.51 0 1.02-.2 1.41-.59l7.78-7.78 2.81-2.81c.8-.78.8-2.07 0-2.86zM5.41 20L4 18.59l7.72-7.72 1.47 1.35L5.41 20z\"/>\n",
              "  </svg>\n",
              "      </button>\n",
              "      \n",
              "  <style>\n",
              "    .colab-df-container {\n",
              "      display:flex;\n",
              "      flex-wrap:wrap;\n",
              "      gap: 12px;\n",
              "    }\n",
              "\n",
              "    .colab-df-convert {\n",
              "      background-color: #E8F0FE;\n",
              "      border: none;\n",
              "      border-radius: 50%;\n",
              "      cursor: pointer;\n",
              "      display: none;\n",
              "      fill: #1967D2;\n",
              "      height: 32px;\n",
              "      padding: 0 0 0 0;\n",
              "      width: 32px;\n",
              "    }\n",
              "\n",
              "    .colab-df-convert:hover {\n",
              "      background-color: #E2EBFA;\n",
              "      box-shadow: 0px 1px 2px rgba(60, 64, 67, 0.3), 0px 1px 3px 1px rgba(60, 64, 67, 0.15);\n",
              "      fill: #174EA6;\n",
              "    }\n",
              "\n",
              "    [theme=dark] .colab-df-convert {\n",
              "      background-color: #3B4455;\n",
              "      fill: #D2E3FC;\n",
              "    }\n",
              "\n",
              "    [theme=dark] .colab-df-convert:hover {\n",
              "      background-color: #434B5C;\n",
              "      box-shadow: 0px 1px 3px 1px rgba(0, 0, 0, 0.15);\n",
              "      filter: drop-shadow(0px 1px 2px rgba(0, 0, 0, 0.3));\n",
              "      fill: #FFFFFF;\n",
              "    }\n",
              "  </style>\n",
              "\n",
              "      <script>\n",
              "        const buttonEl =\n",
              "          document.querySelector('#df-420d36a3-95f8-40f9-b87e-ec595ef19d5d button.colab-df-convert');\n",
              "        buttonEl.style.display =\n",
              "          google.colab.kernel.accessAllowed ? 'block' : 'none';\n",
              "\n",
              "        async function convertToInteractive(key) {\n",
              "          const element = document.querySelector('#df-420d36a3-95f8-40f9-b87e-ec595ef19d5d');\n",
              "          const dataTable =\n",
              "            await google.colab.kernel.invokeFunction('convertToInteractive',\n",
              "                                                     [key], {});\n",
              "          if (!dataTable) return;\n",
              "\n",
              "          const docLinkHtml = 'Like what you see? Visit the ' +\n",
              "            '<a target=\"_blank\" href=https://colab.research.google.com/notebooks/data_table.ipynb>data table notebook</a>'\n",
              "            + ' to learn more about interactive tables.';\n",
              "          element.innerHTML = '';\n",
              "          dataTable['output_type'] = 'display_data';\n",
              "          await google.colab.output.renderOutput(dataTable, element);\n",
              "          const docLink = document.createElement('div');\n",
              "          docLink.innerHTML = docLinkHtml;\n",
              "          element.appendChild(docLink);\n",
              "        }\n",
              "      </script>\n",
              "    </div>\n",
              "  </div>\n",
              "  "
            ],
            "text/plain": [
              "   Species  Length_cm  Height_pct  Width_pct\n",
              "0        1       30.0        38.4       13.4\n",
              "1        1       31.2        40.0       13.8\n",
              "2        1       31.1        39.8       15.1\n",
              "3        1       33.5        38.0       13.3\n",
              "4        1       34.0        36.6       15.1"
            ]
          },
          "metadata": {},
          "execution_count": 5
        }
      ]
    },
    {
      "cell_type": "code",
      "source": [
        "y_train.head"
      ],
      "metadata": {
        "colab": {
          "base_uri": "https://localhost:8080/"
        },
        "id": "qMNpkRY355xD",
        "outputId": "19b2a82b-6c3c-4035-c30d-f292d339e86e"
      },
      "execution_count": null,
      "outputs": [
        {
          "output_type": "execute_result",
          "data": {
            "text/plain": [
              "<bound method NDFrame.head of 0       242.0\n",
              "1       290.0\n",
              "2       340.0\n",
              "3       363.0\n",
              "4       430.0\n",
              "        ...  \n",
              "119     820.0\n",
              "120    1100.0\n",
              "121    1000.0\n",
              "122    1100.0\n",
              "123    1000.0\n",
              "Name: Weight_g, Length: 124, dtype: float64>"
            ]
          },
          "metadata": {},
          "execution_count": 6
        }
      ]
    },
    {
      "cell_type": "code",
      "source": [
        "X_train_array = data_train[data_train.columns[cols]].to_numpy()\n",
        "X_train_array1 = data_train[data_train.columns[cols1]].to_numpy()\n",
        "X_train_array"
      ],
      "metadata": {
        "colab": {
          "base_uri": "https://localhost:8080/"
        },
        "id": "0g12NxGD6w5r",
        "outputId": "8f83c59a-050a-49dc-aa4e-fb13d2fe37ba"
      },
      "execution_count": null,
      "outputs": [
        {
          "output_type": "execute_result",
          "data": {
            "text/plain": [
              "array([[ 1. , 30. , 38.4, 13.4],\n",
              "       [ 1. , 31.2, 40. , 13.8],\n",
              "       [ 1. , 31.1, 39.8, 15.1],\n",
              "       [ 1. , 33.5, 38. , 13.3],\n",
              "       [ 1. , 34. , 36.6, 15.1],\n",
              "       [ 1. , 34.5, 41.1, 15.3],\n",
              "       [ 1. , 35. , 36.2, 13.4],\n",
              "       [ 1. , 36.2, 39.3, 13.7],\n",
              "       [ 1. , 36.2, 39.4, 14.1],\n",
              "       [ 1. , 36.2, 39.7, 13.3],\n",
              "       [ 1. , 36.4, 37.8, 12. ],\n",
              "       [ 1. , 37.2, 40.2, 13.9],\n",
              "       [ 1. , 37.2, 41.5, 15. ],\n",
              "       [ 1. , 38.3, 38.8, 13.8],\n",
              "       [ 1. , 38.5, 38.8, 13.5],\n",
              "       [ 1. , 38.6, 40.5, 13.3],\n",
              "       [ 1. , 38.7, 37.4, 14.8],\n",
              "       [ 1. , 39.2, 40.8, 13.7],\n",
              "       [ 1. , 39.7, 39.1, 13.3],\n",
              "       [ 1. , 40.6, 38.1, 15.1],\n",
              "       [ 1. , 40.5, 40.1, 13.8],\n",
              "       [ 1. , 40.9, 40. , 14.8],\n",
              "       [ 1. , 40.6, 40.3, 15. ],\n",
              "       [ 1. , 41.6, 40.6, 14.9],\n",
              "       [ 1. , 42.6, 44.5, 15.5],\n",
              "       [ 1. , 44.1, 40.9, 14.3],\n",
              "       [ 1. , 44. , 41.1, 14.3],\n",
              "       [ 1. , 45.3, 41.4, 14.9],\n",
              "       [ 1. , 45.9, 40.6, 14.7],\n",
              "       [ 2. , 28.7, 29.2, 14.8],\n",
              "       [ 2. , 29.3, 27.8, 14.5],\n",
              "       [ 2. , 30.8, 28.5, 15.2],\n",
              "       [ 2. , 39.6, 29.7, 16.6],\n",
              "       [ 2. , 43.5, 28.4, 15. ],\n",
              "       [ 3. , 16.2, 25.6, 14. ],\n",
              "       [ 3. , 20.3, 26.1, 13.9],\n",
              "       [ 3. , 22.2, 25.3, 14.3],\n",
              "       [ 3. , 22.2, 28. , 16.1],\n",
              "       [ 3. , 23.1, 26.7, 14.7],\n",
              "       [ 3. , 23.7, 25.8, 13.9],\n",
              "       [ 3. , 24.7, 23.5, 15.2],\n",
              "       [ 3. , 25.3, 27.8, 15.1],\n",
              "       [ 3. , 25. , 26.2, 13.3],\n",
              "       [ 3. , 25. , 25.6, 15.2],\n",
              "       [ 3. , 26.7, 25.9, 13.6],\n",
              "       [ 3. , 26.8, 27.6, 15.4],\n",
              "       [ 3. , 27.9, 25.4, 14. ],\n",
              "       [ 3. , 30.6, 28. , 15.6],\n",
              "       [ 3. , 35. , 27.1, 15.3],\n",
              "       [ 4. , 16.5, 41.5, 14.1],\n",
              "       [ 4. , 17.4, 37.8, 13.3],\n",
              "       [ 4. , 21.3, 39.4, 13.7],\n",
              "       [ 4. , 22.4, 39.7, 14.7],\n",
              "       [ 4. , 23.2, 36.8, 14.2],\n",
              "       [ 4. , 24.1, 40.4, 13.1],\n",
              "       [ 4. , 25.8, 40.1, 14.2],\n",
              "       [ 4. , 28. , 39.6, 14.8],\n",
              "       [ 4. , 29. , 39.2, 14.6],\n",
              "       [ 5. , 10.8, 16.1,  9.7],\n",
              "       [ 5. , 11.6, 17. , 10. ],\n",
              "       [ 5. , 11.6, 14.9,  9.9],\n",
              "       [ 5. , 12. , 18.3, 11.5],\n",
              "       [ 5. , 12.4, 16.8, 10.3],\n",
              "       [ 5. , 13.2, 16.7,  8.7],\n",
              "       [ 5. , 13.4, 15.6, 10.4],\n",
              "       [ 5. , 13.5, 18. ,  9.4],\n",
              "       [ 5. , 13.8, 16.5,  9.1],\n",
              "       [ 5. , 15.2, 18.9, 13.6],\n",
              "       [ 5. , 16.2, 18.1, 11.6],\n",
              "       [ 6. , 34.8, 16. ,  9.7],\n",
              "       [ 6. , 37.8, 15.1, 11. ],\n",
              "       [ 6. , 38.8, 15.3, 11.3],\n",
              "       [ 6. , 39.8, 15.8, 10.1],\n",
              "       [ 6. , 40.5, 18. , 11.3],\n",
              "       [ 6. , 41. , 15.6,  9.7],\n",
              "       [ 6. , 45.5, 15. ,  9.8],\n",
              "       [ 6. , 48. , 14.5, 10.2],\n",
              "       [ 6. , 48.7, 16. , 10. ],\n",
              "       [ 6. , 51.2, 15. , 10.5],\n",
              "       [ 6. , 55.1, 16.2, 11.2],\n",
              "       [ 6. , 59.7, 17.9, 11.7],\n",
              "       [ 6. , 64. , 15. ,  9.6],\n",
              "       [ 6. , 68. , 15.9, 11. ],\n",
              "       [ 7. ,  8.8, 24. , 16. ],\n",
              "       [ 7. , 14.7, 24. , 13.6],\n",
              "       [ 7. , 17.2, 26.7, 15.3],\n",
              "       [ 7. , 18.5, 24.8, 15.9],\n",
              "       [ 7. , 19.2, 27.2, 17.3],\n",
              "       [ 7. , 20.2, 27.9, 15.1],\n",
              "       [ 7. , 20.8, 24.7, 14.6],\n",
              "       [ 7. , 21. , 24.2, 13.2],\n",
              "       [ 7. , 22.5, 25.3, 15.8],\n",
              "       [ 7. , 22.5, 26.3, 14.7],\n",
              "       [ 7. , 23.5, 24. , 15. ],\n",
              "       [ 7. , 23.5, 26. , 15. ],\n",
              "       [ 7. , 23.5, 25. , 15. ],\n",
              "       [ 7. , 23.5, 23.5, 17. ],\n",
              "       [ 7. , 24. , 24.4, 15.1],\n",
              "       [ 7. , 24. , 28.3, 15.1],\n",
              "       [ 7. , 25.5, 28.6, 14.6],\n",
              "       [ 7. , 25.5, 25. , 15. ],\n",
              "       [ 7. , 26.2, 25.7, 15.9],\n",
              "       [ 7. , 26.5, 24.3, 13.9],\n",
              "       [ 7. , 27. , 24.3, 15.7],\n",
              "       [ 7. , 28. , 25.6, 14.8],\n",
              "       [ 7. , 28.7, 29. , 17.9],\n",
              "       [ 7. , 28.9, 24.8, 15. ],\n",
              "       [ 7. , 28.9, 24.4, 15. ],\n",
              "       [ 7. , 28.9, 25.2, 15.8],\n",
              "       [ 7. , 34. , 29.5, 17.7],\n",
              "       [ 7. , 36.5, 28.1, 17.5],\n",
              "       [ 7. , 37.3, 30.8, 20.9],\n",
              "       [ 7. , 39. , 27.9, 17.6],\n",
              "       [ 7. , 38.3, 27.7, 17.6],\n",
              "       [ 7. , 39.4, 27.5, 15.9],\n",
              "       [ 7. , 39.3, 26.9, 16.2],\n",
              "       [ 7. , 41.4, 26.9, 18.1],\n",
              "       [ 7. , 41.4, 26.9, 14.5],\n",
              "       [ 7. , 41.3, 30.1, 17.8],\n",
              "       [ 7. , 42.5, 26.2, 15.6],\n",
              "       [ 7. , 44.6, 28.7, 15.4],\n",
              "       [ 7. , 45.2, 26.4, 16.1],\n",
              "       [ 7. , 45.5, 27.5, 16.3],\n",
              "       [ 7. , 46.6, 26.8, 16.3]])"
            ]
          },
          "metadata": {},
          "execution_count": 7
        }
      ]
    },
    {
      "cell_type": "code",
      "source": [
        "y_train = y_train.to_numpy()\n",
        "y_train"
      ],
      "metadata": {
        "colab": {
          "base_uri": "https://localhost:8080/"
        },
        "id": "oUDA82BK7L23",
        "outputId": "6564c362-0413-4c6e-aada-25ac1bc7057d"
      },
      "execution_count": null,
      "outputs": [
        {
          "output_type": "execute_result",
          "data": {
            "text/plain": [
              "array([ 242. ,  290. ,  340. ,  363. ,  430. ,  500. ,  390. ,  500. ,\n",
              "        475. ,  500. ,  500. ,  600. ,  600. ,  700. ,  700. ,  610. ,\n",
              "        650. ,  685. ,  620. ,  680. ,  700. ,  725. ,  720. ,  850. ,\n",
              "       1000. ,  920. ,  955. ,  925. ,  975. ,  270. ,  270. ,  306. ,\n",
              "        800. , 1000. ,   40. ,   69. ,   87. ,  120. ,  110. ,  120. ,\n",
              "        150. ,  160. ,  140. ,  160. ,  161. ,  200. ,  180. ,  272. ,\n",
              "        390. ,   55. ,   60. ,  120. ,  150. ,  140. ,  145. ,  200. ,\n",
              "        273. ,  300. ,    6.7,    7.5,    7. ,    9.7,    9.8,    9.8,\n",
              "         12.2,   13.4,   12.2,   19.7,   19.9,  200. ,  300. ,  300. ,\n",
              "        300. ,  430. ,  345. ,  510. ,  500. ,  567. ,  770. ,  950. ,\n",
              "       1250. , 1550. , 1650. ,    5.9,   32. ,   51.5,   70. ,  100. ,\n",
              "         80. ,   85. ,   85. ,  110. ,  115. ,  120. ,  130. ,  135. ,\n",
              "        110. ,  130. ,  150. ,  225. ,  145. ,  188. ,  180. ,  197. ,\n",
              "        218. ,  300. ,  260. ,  265. ,  250. ,  514. ,  556. ,  840. ,\n",
              "        685. ,  700. ,  700. ,  690. ,  900. ,  650. ,  820. ,  820. ,\n",
              "       1100. , 1000. , 1100. , 1000. ])"
            ]
          },
          "metadata": {},
          "execution_count": 8
        }
      ]
    },
    {
      "cell_type": "code",
      "source": [
        "X_train = np.hstack((X_train_array, np.ones((X_train_array.shape[0],1), dtype = X_train_array.dtype)))\n",
        "X_train1 = np.hstack((X_train_array1, np.ones((X_train_array1.shape[0],1), dtype = X_train_array1.dtype)))\n",
        "X_train"
      ],
      "metadata": {
        "id": "sObpW03-8d9_",
        "colab": {
          "base_uri": "https://localhost:8080/"
        },
        "outputId": "1c3acd5e-5736-4177-da1f-af9fbe3db853"
      },
      "execution_count": null,
      "outputs": [
        {
          "output_type": "execute_result",
          "data": {
            "text/plain": [
              "array([[ 1. , 30. , 38.4, 13.4,  1. ],\n",
              "       [ 1. , 31.2, 40. , 13.8,  1. ],\n",
              "       [ 1. , 31.1, 39.8, 15.1,  1. ],\n",
              "       [ 1. , 33.5, 38. , 13.3,  1. ],\n",
              "       [ 1. , 34. , 36.6, 15.1,  1. ],\n",
              "       [ 1. , 34.5, 41.1, 15.3,  1. ],\n",
              "       [ 1. , 35. , 36.2, 13.4,  1. ],\n",
              "       [ 1. , 36.2, 39.3, 13.7,  1. ],\n",
              "       [ 1. , 36.2, 39.4, 14.1,  1. ],\n",
              "       [ 1. , 36.2, 39.7, 13.3,  1. ],\n",
              "       [ 1. , 36.4, 37.8, 12. ,  1. ],\n",
              "       [ 1. , 37.2, 40.2, 13.9,  1. ],\n",
              "       [ 1. , 37.2, 41.5, 15. ,  1. ],\n",
              "       [ 1. , 38.3, 38.8, 13.8,  1. ],\n",
              "       [ 1. , 38.5, 38.8, 13.5,  1. ],\n",
              "       [ 1. , 38.6, 40.5, 13.3,  1. ],\n",
              "       [ 1. , 38.7, 37.4, 14.8,  1. ],\n",
              "       [ 1. , 39.2, 40.8, 13.7,  1. ],\n",
              "       [ 1. , 39.7, 39.1, 13.3,  1. ],\n",
              "       [ 1. , 40.6, 38.1, 15.1,  1. ],\n",
              "       [ 1. , 40.5, 40.1, 13.8,  1. ],\n",
              "       [ 1. , 40.9, 40. , 14.8,  1. ],\n",
              "       [ 1. , 40.6, 40.3, 15. ,  1. ],\n",
              "       [ 1. , 41.6, 40.6, 14.9,  1. ],\n",
              "       [ 1. , 42.6, 44.5, 15.5,  1. ],\n",
              "       [ 1. , 44.1, 40.9, 14.3,  1. ],\n",
              "       [ 1. , 44. , 41.1, 14.3,  1. ],\n",
              "       [ 1. , 45.3, 41.4, 14.9,  1. ],\n",
              "       [ 1. , 45.9, 40.6, 14.7,  1. ],\n",
              "       [ 2. , 28.7, 29.2, 14.8,  1. ],\n",
              "       [ 2. , 29.3, 27.8, 14.5,  1. ],\n",
              "       [ 2. , 30.8, 28.5, 15.2,  1. ],\n",
              "       [ 2. , 39.6, 29.7, 16.6,  1. ],\n",
              "       [ 2. , 43.5, 28.4, 15. ,  1. ],\n",
              "       [ 3. , 16.2, 25.6, 14. ,  1. ],\n",
              "       [ 3. , 20.3, 26.1, 13.9,  1. ],\n",
              "       [ 3. , 22.2, 25.3, 14.3,  1. ],\n",
              "       [ 3. , 22.2, 28. , 16.1,  1. ],\n",
              "       [ 3. , 23.1, 26.7, 14.7,  1. ],\n",
              "       [ 3. , 23.7, 25.8, 13.9,  1. ],\n",
              "       [ 3. , 24.7, 23.5, 15.2,  1. ],\n",
              "       [ 3. , 25.3, 27.8, 15.1,  1. ],\n",
              "       [ 3. , 25. , 26.2, 13.3,  1. ],\n",
              "       [ 3. , 25. , 25.6, 15.2,  1. ],\n",
              "       [ 3. , 26.7, 25.9, 13.6,  1. ],\n",
              "       [ 3. , 26.8, 27.6, 15.4,  1. ],\n",
              "       [ 3. , 27.9, 25.4, 14. ,  1. ],\n",
              "       [ 3. , 30.6, 28. , 15.6,  1. ],\n",
              "       [ 3. , 35. , 27.1, 15.3,  1. ],\n",
              "       [ 4. , 16.5, 41.5, 14.1,  1. ],\n",
              "       [ 4. , 17.4, 37.8, 13.3,  1. ],\n",
              "       [ 4. , 21.3, 39.4, 13.7,  1. ],\n",
              "       [ 4. , 22.4, 39.7, 14.7,  1. ],\n",
              "       [ 4. , 23.2, 36.8, 14.2,  1. ],\n",
              "       [ 4. , 24.1, 40.4, 13.1,  1. ],\n",
              "       [ 4. , 25.8, 40.1, 14.2,  1. ],\n",
              "       [ 4. , 28. , 39.6, 14.8,  1. ],\n",
              "       [ 4. , 29. , 39.2, 14.6,  1. ],\n",
              "       [ 5. , 10.8, 16.1,  9.7,  1. ],\n",
              "       [ 5. , 11.6, 17. , 10. ,  1. ],\n",
              "       [ 5. , 11.6, 14.9,  9.9,  1. ],\n",
              "       [ 5. , 12. , 18.3, 11.5,  1. ],\n",
              "       [ 5. , 12.4, 16.8, 10.3,  1. ],\n",
              "       [ 5. , 13.2, 16.7,  8.7,  1. ],\n",
              "       [ 5. , 13.4, 15.6, 10.4,  1. ],\n",
              "       [ 5. , 13.5, 18. ,  9.4,  1. ],\n",
              "       [ 5. , 13.8, 16.5,  9.1,  1. ],\n",
              "       [ 5. , 15.2, 18.9, 13.6,  1. ],\n",
              "       [ 5. , 16.2, 18.1, 11.6,  1. ],\n",
              "       [ 6. , 34.8, 16. ,  9.7,  1. ],\n",
              "       [ 6. , 37.8, 15.1, 11. ,  1. ],\n",
              "       [ 6. , 38.8, 15.3, 11.3,  1. ],\n",
              "       [ 6. , 39.8, 15.8, 10.1,  1. ],\n",
              "       [ 6. , 40.5, 18. , 11.3,  1. ],\n",
              "       [ 6. , 41. , 15.6,  9.7,  1. ],\n",
              "       [ 6. , 45.5, 15. ,  9.8,  1. ],\n",
              "       [ 6. , 48. , 14.5, 10.2,  1. ],\n",
              "       [ 6. , 48.7, 16. , 10. ,  1. ],\n",
              "       [ 6. , 51.2, 15. , 10.5,  1. ],\n",
              "       [ 6. , 55.1, 16.2, 11.2,  1. ],\n",
              "       [ 6. , 59.7, 17.9, 11.7,  1. ],\n",
              "       [ 6. , 64. , 15. ,  9.6,  1. ],\n",
              "       [ 6. , 68. , 15.9, 11. ,  1. ],\n",
              "       [ 7. ,  8.8, 24. , 16. ,  1. ],\n",
              "       [ 7. , 14.7, 24. , 13.6,  1. ],\n",
              "       [ 7. , 17.2, 26.7, 15.3,  1. ],\n",
              "       [ 7. , 18.5, 24.8, 15.9,  1. ],\n",
              "       [ 7. , 19.2, 27.2, 17.3,  1. ],\n",
              "       [ 7. , 20.2, 27.9, 15.1,  1. ],\n",
              "       [ 7. , 20.8, 24.7, 14.6,  1. ],\n",
              "       [ 7. , 21. , 24.2, 13.2,  1. ],\n",
              "       [ 7. , 22.5, 25.3, 15.8,  1. ],\n",
              "       [ 7. , 22.5, 26.3, 14.7,  1. ],\n",
              "       [ 7. , 23.5, 24. , 15. ,  1. ],\n",
              "       [ 7. , 23.5, 26. , 15. ,  1. ],\n",
              "       [ 7. , 23.5, 25. , 15. ,  1. ],\n",
              "       [ 7. , 23.5, 23.5, 17. ,  1. ],\n",
              "       [ 7. , 24. , 24.4, 15.1,  1. ],\n",
              "       [ 7. , 24. , 28.3, 15.1,  1. ],\n",
              "       [ 7. , 25.5, 28.6, 14.6,  1. ],\n",
              "       [ 7. , 25.5, 25. , 15. ,  1. ],\n",
              "       [ 7. , 26.2, 25.7, 15.9,  1. ],\n",
              "       [ 7. , 26.5, 24.3, 13.9,  1. ],\n",
              "       [ 7. , 27. , 24.3, 15.7,  1. ],\n",
              "       [ 7. , 28. , 25.6, 14.8,  1. ],\n",
              "       [ 7. , 28.7, 29. , 17.9,  1. ],\n",
              "       [ 7. , 28.9, 24.8, 15. ,  1. ],\n",
              "       [ 7. , 28.9, 24.4, 15. ,  1. ],\n",
              "       [ 7. , 28.9, 25.2, 15.8,  1. ],\n",
              "       [ 7. , 34. , 29.5, 17.7,  1. ],\n",
              "       [ 7. , 36.5, 28.1, 17.5,  1. ],\n",
              "       [ 7. , 37.3, 30.8, 20.9,  1. ],\n",
              "       [ 7. , 39. , 27.9, 17.6,  1. ],\n",
              "       [ 7. , 38.3, 27.7, 17.6,  1. ],\n",
              "       [ 7. , 39.4, 27.5, 15.9,  1. ],\n",
              "       [ 7. , 39.3, 26.9, 16.2,  1. ],\n",
              "       [ 7. , 41.4, 26.9, 18.1,  1. ],\n",
              "       [ 7. , 41.4, 26.9, 14.5,  1. ],\n",
              "       [ 7. , 41.3, 30.1, 17.8,  1. ],\n",
              "       [ 7. , 42.5, 26.2, 15.6,  1. ],\n",
              "       [ 7. , 44.6, 28.7, 15.4,  1. ],\n",
              "       [ 7. , 45.2, 26.4, 16.1,  1. ],\n",
              "       [ 7. , 45.5, 27.5, 16.3,  1. ],\n",
              "       [ 7. , 46.6, 26.8, 16.3,  1. ]])"
            ]
          },
          "metadata": {},
          "execution_count": 62
        }
      ]
    },
    {
      "cell_type": "code",
      "source": [
        "print('X shape:',X_train.shape,'y shape:',y_train.shape)"
      ],
      "metadata": {
        "colab": {
          "base_uri": "https://localhost:8080/"
        },
        "id": "Gw2E9cp59eLL",
        "outputId": "935446b6-2056-4ccf-9e14-b4a4774237ef"
      },
      "execution_count": null,
      "outputs": [
        {
          "output_type": "stream",
          "name": "stdout",
          "text": [
            "X shape: (124, 5) y shape: (124,)\n"
          ]
        }
      ]
    },
    {
      "cell_type": "code",
      "source": [
        "XTX = np.matmul(np.transpose(X_train), X_train)\n",
        "print('XTX shape:', XTX.shape)\n",
        "\n",
        "XTy = np.matmul(np.transpose(X_train), y_train)\n",
        "\n",
        "beta = np.linalg.solve(XTX, XTy)\n",
        "print('beta', beta)"
      ],
      "metadata": {
        "colab": {
          "base_uri": "https://localhost:8080/"
        },
        "id": "RidbJguF-NcL",
        "outputId": "b5e87f88-170b-4178-cdef-f4b54430b5b4"
      },
      "execution_count": null,
      "outputs": [
        {
          "output_type": "stream",
          "name": "stdout",
          "text": [
            "XTX shape: (5, 5)\n",
            "beta [   2.4173551    27.8581628     2.67475542   13.06363395 -740.77633006]\n"
          ]
        }
      ]
    },
    {
      "cell_type": "code",
      "source": [
        " n = len(data_train.index)\n",
        "y_bar = 0\n",
        "for i in range(n):\n",
        "  y_i = float(data_train.iat[i,4])\n",
        "  y_bar += y_i\n",
        "y_bar /= n\n",
        "\n",
        "sigma_yy = 0\n",
        "for i in range(n):\n",
        "  y_i = float(data_train.iat[i,4])\n",
        "  sigma_yy += (y_i-y_bar)**2"
      ],
      "metadata": {
        "id": "TwdJDJBKOS52"
      },
      "execution_count": null,
      "outputs": []
    },
    {
      "cell_type": "code",
      "source": [
        "sum_sq_residuals = 0\n",
        "for i in range(n):\n",
        "  x_i = X_train[i,:]\n",
        "  y_i = y_train[i]\n",
        "\n",
        "  y_pred_i = np.dot(x_i, beta)\n",
        "  e_i = y_i - y_pred_i\n",
        "\n",
        "  sum_sq_residuals += (e_i)**2\n",
        "\n",
        "  print(\"Y_predict\", y_pred_i)\n",
        "print('Sum of Sq Residulas :', sum_sq_residuals)\n",
        "R_sq = 1 - sum_sq_residuals/sigma_yy\n",
        "print('R^2:', R_sq)\n",
        "print(\"****************************\")"
      ],
      "metadata": {
        "colab": {
          "base_uri": "https://localhost:8080/"
        },
        "id": "l3pWjNH1heCu",
        "outputId": "8d21065e-d2c2-4574-f41c-0b22f049c50f"
      },
      "execution_count": null,
      "outputs": [
        {
          "output_type": "stream",
          "name": "stdout",
          "text": [
            "Y_predict 425.24510452306635 242.0\n",
            "Y_predict 444.94707684187716 290.0\n",
            "Y_predict 429.5200939051507 340.0\n",
            "Y_predict 513.8445408095254 363.0\n",
            "Y_predict 512.1470642370691 430.0\n",
            "Y_predict 506.52595433027136 500.0\n",
            "Y_predict 556.040441075477 390.0\n",
            "Y_predict 571.5191873542739 500.0\n",
            "Y_predict 566.9616662012977 475.0\n",
            "Y_predict 574.3184769242148 500.0\n",
            "Y_predict 599.5912148614309 500.0\n",
            "Y_predict 590.8632566040366 600.0\n",
            "Y_predict 574.7256986881296 600.0\n",
            "Y_predict 623.91077961478 700.0\n",
            "Y_predict 631.9875504455391 700.0\n",
            "Y_predict 630.5736828331443 610.0\n",
            "Y_predict 628.1638703633208 650.0\n",
            "Y_predict 640.0799631574007 685.0\n",
            "Y_predict 662.5697371347956 620.0\n",
            "Y_predict 669.3104047028753 680.0\n",
            "Y_predict 673.4853892371922 700.0\n",
            "Y_predict 673.1670778698408 725.0\n",
            "Y_predict 662.6256544466119 720.0\n",
            "Y_predict 687.2340077232938 850.0\n",
            "Y_predict 691.822812638475 1000.0\n",
            "Y_predict 754.0174398215536 920.0\n",
            "Y_predict 750.8529648365984 955.0\n",
            "Y_predict 775.4845842048577 925.0\n",
            "Y_predict 795.1677862663455 975.0\n",
            "Y_predict 390.5711157366041 270.0\n",
            "Y_predict 413.41566440682664 270.0\n",
            "Y_predict 440.5115945030476 306.0\n",
            "Y_predict 638.1553237296874 800.0\n",
            "Y_predict 755.5363369089587 1000.0\n",
            "Y_predict 83.68482142517246 40.0\n",
            "Y_predict 183.8865349726144 69.0\n",
            "Y_predict 229.25629535218275 87.0\n",
            "Y_predict 200.83540804013063 120.0\n",
            "Y_predict 242.2780132489845 110.0\n",
            "Y_predict 268.62167388163294 120.0\n",
            "Y_predict 287.6522694628072 150.0\n",
            "Y_predict 288.3500406682416 160.0\n",
            "Y_predict 305.51927144239255 140.0\n",
            "Y_predict 287.65124386928176 160.0\n",
            "Y_predict 345.25990424453556 161.0\n",
            "Y_predict 322.81666245029544 200.0\n",
            "Y_predict 372.3464492120951 180.0\n",
            "Y_predict 412.83206913184426 272.0\n",
            "Y_predict 527.4433155851931 390.0\n",
            "Y_predict 13.795618016390279 55.0\n",
            "Y_predict 57.36892256926029 60.0\n",
            "Y_predict 143.52281838508077 120.0\n",
            "Y_predict 159.02619821348884 150.0\n",
            "Y_predict 194.17074375448436 140.0\n",
            "Y_predict 215.22827332231435 145.0\n",
            "Y_predict 246.5571564517192 200.0\n",
            "Y_predict 296.15258751850513 273.0\n",
            "Y_predict 324.2739337205289 300.0\n",
            "Y_predict -11.218505828981336 6.7\n",
            "Y_predict 2.1517300082068687 7.5\n",
            "Y_predict 10.587771366047832 7.0\n",
            "Y_predict -8.346973337104856 9.7\n",
            "Y_predict 19.39007532807298 9.8\n",
            "Y_predict 56.25467980408524 9.8\n",
            "Y_predict 47.17018593567667 12.2\n",
            "Y_predict 51.706543779770584 13.4\n",
            "Y_predict 67.51919171137692 12.2\n",
            "Y_predict 46.22014112802998 19.7\n",
            "Y_predict 94.6745093601431 19.9\n",
            "Y_predict 559.5073874911016 200.0\n",
            "Y_predict 622.8385816745987 300.0\n",
            "Y_predict 643.5927064315185 300.0\n",
            "Y_predict 679.0639228750015 300.0\n",
            "Y_predict 675.9383558627262 430.0\n",
            "Y_predict 713.5072785654779 345.0\n",
            "Y_predict 825.3188935843776 510.0\n",
            "Y_predict 884.4008091245714 500.0\n",
            "Y_predict 898.4573282558374 567.0\n",
            "Y_predict 958.2460066699745 770.0\n",
            "Y_predict 1042.6520816249463 950.0\n",
            "Y_predict 1144.6311388772551 1250.0\n",
            "Y_predict 1282.7405660746651 1550.0\n",
            "Y_predict 1363.3024813675536 1650.0\n",
            "Y_predict -195.0837753773509 5.9\n",
            "Y_predict -24.638767606411562 32.0\n",
            "Y_predict 9.52137258415604 51.5\n",
            "Y_predict 41.88921091777121 70.0\n",
            "Y_predict 35.9574138540971 100.0\n",
            "Y_predict 81.24002475528852 80.0\n",
            "Y_predict 112.51714454262313 85.0\n",
            "Y_predict 133.91830275643252 85.0\n",
            "Y_predict 139.629742113472 110.0\n",
            "Y_predict 147.6794347474162 115.0\n",
            "Y_predict 177.22471741951318 120.0\n",
            "Y_predict 170.19179108737157 130.0\n",
            "Y_predict 173.7082542534424 135.0\n",
            "Y_predict 157.95357482070312 110.0\n",
            "Y_predict 187.07257520269806 130.0\n",
            "Y_predict 173.35836885502192 150.0\n",
            "Y_predict 214.47850872677856 225.0\n",
            "Y_predict 222.93190128826436 145.0\n",
            "Y_predict 228.23543515237196 188.0\n",
            "Y_predict 261.5714048219399 180.0\n",
            "Y_predict 254.95087981698447 197.0\n",
            "Y_predict 284.45451960033387 218.0\n",
            "Y_predict 257.13129131602034 300.0\n",
            "Y_predict 307.31539388067574 260.0\n",
            "Y_predict 308.7219791471041 265.0\n",
            "Y_predict 297.4970589415093 250.0\n",
            "Y_predict 387.91866179344765 514.0\n",
            "Y_predict 456.4742064376588 556.0\n",
            "Y_predict 430.91927859405894 840.0\n",
            "Y_predict 517.655589155308 685.0\n",
            "Y_predict 501.1306053263345 700.0\n",
            "Y_predict 546.7818718832693 700.0\n",
            "Y_predict 543.2761613038939 690.0\n",
            "Y_predict 574.9830852177039 900.0\n",
            "Y_predict 612.8359587450257 650.0\n",
            "Y_predict 564.4236268618129 820.0\n",
            "Y_predict 630.8043330304124 820.0\n",
            "Y_predict 675.800941919983 1100.0\n",
            "Y_predict 691.2956203487464 1000.0\n",
            "Y_predict 692.7081205031072 1100.0\n",
            "Y_predict 722.2426505885089 1000.0\n",
            "Sum of Sq Residulas : 3260487.0919998987\n",
            "R^2: 0.788991704322457\n",
            "****************************\n"
          ]
        }
      ]
    },
    {
      "cell_type": "code",
      "source": [
        "#Pediction with model\n",
        "from sklearn.linear_model import LinearRegression\n",
        "LR=LinearRegression()\n",
        "LR.fit(X_train, y_train)\n",
        "print('Coefficient', LR.coef_)\n",
        "print(\"Intercept\", LR.intercept_)"
      ],
      "metadata": {
        "colab": {
          "base_uri": "https://localhost:8080/"
        },
        "id": "PWM7mekLCR3c",
        "outputId": "68fb2939-d15c-4330-9d69-6765d402cbf6"
      },
      "execution_count": null,
      "outputs": [
        {
          "output_type": "stream",
          "name": "stdout",
          "text": [
            "Coefficient [ 2.4173551  27.8581628   2.67475542 13.06363395  0.        ]\n",
            "Intercept -740.7763300639674\n"
          ]
        }
      ]
    },
    {
      "cell_type": "code",
      "source": [
        "y_train_predict = LR.predict(X_train)\n",
        "print(y_train,\" \", y_train_predict)"
      ],
      "metadata": {
        "id": "tRzhrtSwHQy2",
        "colab": {
          "base_uri": "https://localhost:8080/"
        },
        "outputId": "cdcef1f5-0dbe-44c4-d407-774906e36afb"
      },
      "execution_count": null,
      "outputs": [
        {
          "output_type": "stream",
          "name": "stdout",
          "text": [
            "[ 242.   290.   340.   363.   430.   500.   390.   500.   475.   500.\n",
            "  500.   600.   600.   700.   700.   610.   650.   685.   620.   680.\n",
            "  700.   725.   720.   850.  1000.   920.   955.   925.   975.   270.\n",
            "  270.   306.   800.  1000.    40.    69.    87.   120.   110.   120.\n",
            "  150.   160.   140.   160.   161.   200.   180.   272.   390.    55.\n",
            "   60.   120.   150.   140.   145.   200.   273.   300.     6.7    7.5\n",
            "    7.     9.7    9.8    9.8   12.2   13.4   12.2   19.7   19.9  200.\n",
            "  300.   300.   300.   430.   345.   510.   500.   567.   770.   950.\n",
            " 1250.  1550.  1650.     5.9   32.    51.5   70.   100.    80.    85.\n",
            "   85.   110.   115.   120.   130.   135.   110.   130.   150.   225.\n",
            "  145.   188.   180.   197.   218.   300.   260.   265.   250.   514.\n",
            "  556.   840.   685.   700.   700.   690.   900.   650.   820.   820.\n",
            " 1100.  1000.  1100.  1000. ]   [ 375.14921228  418.0840699   431.74602667  470.27651653  503.97548146\n",
            "  532.55368904  508.55556438  554.19619173  559.68912085  550.04064032\n",
            "  533.54751345  587.07436121  604.9215406   612.66731931  614.31986168\n",
            "  619.04003539  633.12956079  641.78281328  645.93935688  691.8514891\n",
            "  677.43245952  701.37188305  696.42958763  723.78381367  769.91170298\n",
            "  786.39346693  784.14260174  828.99882038  840.96118694  335.03229339\n",
            "  344.0834433   396.88756007  663.53818679  747.80602536  -30.85741325\n",
            "   83.39206857  139.40822714  170.14460789  173.45068483  177.30739548\n",
            "  215.99634495  242.90632755  206.75472892  229.97078018  257.23026925\n",
            "  288.07771086  294.54814049  397.62135847  513.87090475   23.75236528\n",
            "   28.47720959  146.62910678  191.13914644  199.13706899  219.46853768\n",
            "  280.39498517  348.183746    372.35927985 -258.04058468 -229.42768437\n",
            " -236.35103415 -195.21178628 -203.75701503 -202.63977465 -177.80219533\n",
            " -181.66059999 -181.23437447  -77.02718075  -77.43609019  412.70520219\n",
            "  510.85513487  543.16733894  556.68651872  597.74805535  584.35590942\n",
            "  709.41915218  782.95263506  803.85275537  877.35522393  998.35630914\n",
            " 1137.58275924 1222.18243728 1354.31145591 -205.49073838  -72.48029931\n",
            "   26.59512505   65.56688177  109.77609627  110.76659318  112.39045654\n",
            "   98.33562386  177.03054731  165.33530538  190.9606209   196.31013174\n",
            "  193.63537632  215.75051109  207.26596787  217.69751401  253.75536787\n",
            "  249.35170193  282.48201525  260.9675386   298.41116111  317.98923541\n",
            "  387.08138305  343.53450439  342.46460222  355.05531371  533.45429683\n",
            "  596.74231947  670.66704478  667.15913879  647.12347374  655.02432403\n",
            "  654.55274468  737.87579108  690.84670886  739.73010196  733.98835649\n",
            "  796.56466014  816.27216412  830.18457072  858.95622101]\n"
          ]
        }
      ]
    },
    {
      "cell_type": "code",
      "source": [
        "from sklearn.metrics import r2_score\n",
        "from sklearn.metrics import mean_squared_error\n",
        "r2score = r2_score(y_train, y_train_predict)\n",
        "mse = mean_squared_error(y_train, y_train_predict)\n",
        "print(\"R2 Score\", r2score)\n",
        "print(\"RMSE\", np.sqrt(mse))"
      ],
      "metadata": {
        "colab": {
          "base_uri": "https://localhost:8080/"
        },
        "id": "Qkj6tmIQHjId",
        "outputId": "597c5fa8-8ee8-4f04-ec5f-34e50f9a222a"
      },
      "execution_count": null,
      "outputs": [
        {
          "output_type": "stream",
          "name": "stdout",
          "text": [
            "R2 Score 0.8638153791855696\n",
            "RMSE 130.2700764891798\n"
          ]
        }
      ]
    },
    {
      "cell_type": "code",
      "source": [
        "X_test = data_test[data_test.columns[cols]]\n",
        "y_test = data_test[\"Weight_g\"]"
      ],
      "metadata": {
        "id": "VRUAj-f0JlyO"
      },
      "execution_count": null,
      "outputs": []
    },
    {
      "cell_type": "code",
      "source": [
        "X_test_array = data_test[data_test.columns[cols]].to_numpy()\n",
        "X_test = np.hstack((X_test_array, np.ones((X_test_array.shape[0],1), dtype = X_test_array.dtype)))"
      ],
      "metadata": {
        "id": "ztHDaEyXxhe8"
      },
      "execution_count": null,
      "outputs": []
    },
    {
      "cell_type": "code",
      "source": [
        "y_test_predict = LR.predict(X_test)"
      ],
      "metadata": {
        "id": "22C0S7kuvmh2"
      },
      "execution_count": null,
      "outputs": []
    },
    {
      "cell_type": "code",
      "source": [
        "y_train_predict1 = LR.predict(X_train1)\n",
        "r2score = r2_score(y_train, y_train_predict1)\n",
        "mse = mean_squared_error(y_train, y_train_predict1)\n",
        "print(\"R2 Score\", r2score)\n",
        "print(\"RMSE\", np.sqrt(mse))"
      ],
      "metadata": {
        "colab": {
          "base_uri": "https://localhost:8080/"
        },
        "id": "f7f7pqIUy26N",
        "outputId": "2ff9168a-7bd7-418c-a2f0-9a03c2373b2a"
      },
      "execution_count": null,
      "outputs": [
        {
          "output_type": "stream",
          "name": "stdout",
          "text": [
            "R2 Score 0.8572268968378259\n",
            "RMSE 133.38402994687002\n"
          ]
        }
      ]
    },
    {
      "cell_type": "code",
      "source": [
        "cols1 = [1,3]\n",
        "X_train1 = data_train[data_train.columns[cols1]]\n",
        "LR=LinearRegression()\n",
        "LR.fit(X_train1, y_train)\n",
        "print('Coefficient', LR.coef_)\n",
        "print(\"Intercept\", LR.intercept_)"
      ],
      "metadata": {
        "colab": {
          "base_uri": "https://localhost:8080/"
        },
        "id": "OUEFxwVVgRhW",
        "outputId": "07efb185-8a78-4122-ebbe-2decfe9ee698"
      },
      "execution_count": null,
      "outputs": [
        {
          "output_type": "stream",
          "name": "stdout",
          "text": [
            "Coefficient [28.02625976 17.87051592]\n",
            "Intercept -726.8684572233371\n"
          ]
        }
      ]
    },
    {
      "cell_type": "code",
      "source": [
        "y_train_predict1 = LR.predict(X_train1)\n",
        "print(y_train,\" \", y_train_predict)"
      ],
      "metadata": {
        "colab": {
          "base_uri": "https://localhost:8080/"
        },
        "id": "HvcvRV-dgrlM",
        "outputId": "c67b456d-b013-47c4-fa4d-7eb4e828d0b8"
      },
      "execution_count": null,
      "outputs": [
        {
          "output_type": "stream",
          "name": "stdout",
          "text": [
            "[ 242.   290.   340.   363.   430.   500.   390.   500.   475.   500.\n",
            "  500.   600.   600.   700.   700.   610.   650.   685.   620.   680.\n",
            "  700.   725.   720.   850.  1000.   920.   955.   925.   975.   270.\n",
            "  270.   306.   800.  1000.    40.    69.    87.   120.   110.   120.\n",
            "  150.   160.   140.   160.   161.   200.   180.   272.   390.    55.\n",
            "   60.   120.   150.   140.   145.   200.   273.   300.     6.7    7.5\n",
            "    7.     9.7    9.8    9.8   12.2   13.4   12.2   19.7   19.9  200.\n",
            "  300.   300.   300.   430.   345.   510.   500.   567.   770.   950.\n",
            " 1250.  1550.  1650.     5.9   32.    51.5   70.   100.    80.    85.\n",
            "   85.   110.   115.   120.   130.   135.   110.   130.   150.   225.\n",
            "  145.   188.   180.   197.   218.   300.   260.   265.   250.   514.\n",
            "  556.   840.   685.   700.   700.   690.   900.   650.   820.   820.\n",
            " 1100.  1000.  1100.  1000. ]   [494.63146962 508.54910846 506.80940361 491.15205991 478.97412593\n",
            " 518.11748517 475.49471622 502.46014147 503.3299939  505.93955118\n",
            " 489.41235506 510.28881332 521.59689488 498.11087933 498.11087933\n",
            " 512.8983706  485.93294535 515.50792788 500.72043662 492.02191234\n",
            " 509.41896089 508.54910846 511.15866575 513.76822303 547.6924677\n",
            " 516.37778031 518.11748517 520.72704245 513.76822303 413.43918063\n",
            " 401.26124665 407.35021364 417.78844277 406.48036121 380.95862758\n",
            " 385.30788972 378.3490703  401.83508584 390.52700428 382.69833244\n",
            " 362.6917266  400.09538099 386.17774215 380.95862758 383.56818486\n",
            " 398.35567613 379.21892273 401.83508584 394.00641399 518.09929789\n",
            " 485.91475808 499.83239692 502.4419542  477.2162338  508.53092119\n",
            " 505.92136391 501.57210177 498.09269206 295.99091565 303.81958749\n",
            " 285.55268652 315.12766905 302.07988264 301.21003021 291.64165351\n",
            " 312.51811177 299.47032536 320.34678362 313.3879642  293.95519756\n",
            " 286.12652571 287.86623056 292.2154927  311.35224611 290.47578785\n",
            " 285.25667328 280.90741114 293.95519756 285.25667328 295.69490241\n",
            " 310.48239368 285.25667328 293.08534513 362.3775261  362.3775261\n",
            " 385.86354164 369.33634552 390.21280378 396.30177077 368.46649309\n",
            " 364.11723095 373.68560765 382.38413193 362.3775261  379.77457465\n",
            " 371.07605037 358.02826396 365.85693581 399.78118048 402.39073776\n",
            " 371.07605037 377.16501736 364.98708338 364.98708338 376.29516494\n",
            " 405.87014747 369.33634552 365.85693581 372.81575523 410.21940961\n",
            " 398.04147562 421.52749117 396.30177077 394.56206591 392.82236106\n",
            " 387.60324649 387.60324649 387.60324649 415.43852417 381.5142795\n",
            " 403.26059019 383.25398436 392.82236106 386.73339407]\n"
          ]
        }
      ]
    },
    {
      "cell_type": "code",
      "source": [
        "r2score = r2_score(y_train, y_train_predict1)\n",
        "mse = mean_squared_error(y_train, y_train_predict1)\n",
        "print(\"R2 Score\", r2score)\n",
        "print(\"RMSE\", np.sqrt(mse))"
      ],
      "metadata": {
        "colab": {
          "base_uri": "https://localhost:8080/"
        },
        "id": "_0z4JwychMpx",
        "outputId": "524b3984-1962-4140-c615-22fb026ffa80"
      },
      "execution_count": null,
      "outputs": [
        {
          "output_type": "stream",
          "name": "stdout",
          "text": [
            "R2 Score 0.8617759358938809\n",
            "RMSE 131.2418864445127\n"
          ]
        }
      ]
    },
    {
      "cell_type": "code",
      "source": [
        "lambdas = np.array([1e-3,1e-2,1e-1,1,10,100])\n",
        "I = np.identity(XTX.shape[0])\n",
        "\n",
        "for lambda_ in lambdas:\n",
        "  print('lambda:',lambda_,'cond(XTX+lambda I):', np.linalg.cond(XTX+lambda_*I))"
      ],
      "metadata": {
        "colab": {
          "base_uri": "https://localhost:8080/"
        },
        "id": "pmv9t6QaJvN3",
        "outputId": "2053623b-d307-4211-f95c-429ab2d73fe0"
      },
      "execution_count": null,
      "outputs": [
        {
          "output_type": "stream",
          "name": "stdout",
          "text": [
            "lambda: 0.001 cond(XTX+lambda I): 120408.27778440723\n",
            "lambda: 0.01 cond(XTX+lambda I): 119915.139460895\n",
            "lambda: 0.1 cond(XTX+lambda I): 115197.18115351009\n",
            "lambda: 1.0 cond(XTX+lambda I): 82671.07714386939\n",
            "lambda: 10.0 cond(XTX+lambda I): 21622.344192326935\n",
            "lambda: 100.0 cond(XTX+lambda I): 2579.6901721911277\n"
          ]
        }
      ]
    },
    {
      "cell_type": "code",
      "source": [
        "import scipy.linalg\n",
        "betas = [] \n",
        "for lambda_ in lambdas:\n",
        "  beta =scipy.linalg.solve(XTX+lambda_*I,XTy)\n",
        "  print('lambda:',lambda_)\n",
        "  print('beta:',beta)\n",
        "  print('***************')\n",
        "  betas.append(beta)"
      ],
      "metadata": {
        "colab": {
          "base_uri": "https://localhost:8080/"
        },
        "id": "OedhL_afR2uh",
        "outputId": "7b9061a2-7fc2-4a1b-9510-836019f15ede"
      },
      "execution_count": null,
      "outputs": [
        {
          "output_type": "stream",
          "name": "stdout",
          "text": [
            "lambda: 0.001\n",
            "beta: [   2.40478713   27.85678005    2.67147441   13.05370527 -740.43836035]\n",
            "***************\n",
            "lambda: 0.01\n",
            "beta: [   2.29219272   27.84439174    2.64208025   12.96475214 -737.41047467]\n",
            "***************\n",
            "lambda: 0.1\n",
            "beta: [   1.21522313   27.72585857    2.36091552   12.11355834 -708.44204906]\n",
            "***************\n",
            "lambda: 1.0\n",
            "beta: [-6.19203216e+00  2.69078413e+01  4.26483569e-01  6.23390156e+00\n",
            " -5.08730302e+02]\n",
            "***************\n",
            "lambda: 10.0\n",
            "beta: [ -19.65894758   25.35066218   -3.10719032   -5.08182166 -133.87937211]\n",
            "***************\n",
            "lambda: 100.0\n",
            "beta: [-20.30951741  24.61182352  -3.51646317 -10.51468709 -16.87109099]\n",
            "***************\n"
          ]
        }
      ]
    },
    {
      "cell_type": "code",
      "source": [
        "y_bar = 0\n",
        "for i in range(n): \n",
        "  y_i = float(data_train.iat[i,1])\n",
        "  y_bar += y_i\n",
        "\n",
        "\n",
        "sigma_yy = 0\n",
        "for i in range(n): \n",
        "  y_i = float(data_train.iat[i,1])\n",
        "  sigma_yy += (y_i-y_bar)**2\n",
        "\n",
        "print('sigma_yy:', sigma_yy)\n",
        "\n",
        "beta_idx = 0\n",
        "for lambda_ in lambdas:\n",
        "  beta = betas[beta_idx]\n",
        "  beta_idx+=1\n",
        "  sum_sq_residuals = 0\n",
        "  for i in range(n):\n",
        "    x_i = X_train[i,:]\n",
        "    y_i = y_train[i]\n",
        "\n",
        "    y_pred_i = np.dot(x_i,beta)\n",
        "    e_i = y_i - y_pred_i\n",
        "\n",
        "    sum_sq_residuals += (e_i)**2\n",
        "\n",
        "  print('lambda:',lambda_)\n",
        "  print('sum of squared residuals:', sum_sq_residuals)\n",
        "\n",
        "  R_sq = 1-sum_sq_residuals/sigma_yy\n",
        "  print('R^2:',R_sq)\n",
        "  print('*********************')"
      ],
      "metadata": {
        "colab": {
          "base_uri": "https://localhost:8080/"
        },
        "id": "fw0Kzoo-TAQ7",
        "outputId": "64b730e8-9ce6-43b0-894a-a814a82b5d99"
      },
      "execution_count": null,
      "outputs": [
        {
          "output_type": "stream",
          "name": "stdout",
          "text": [
            "sigma_yy: 1848628629.5900009\n",
            "lambda: 0.001\n",
            "sum of squared residuals: 2104316.5611864547\n",
            "R^2: 0.9988616877789818\n",
            "*********************\n",
            "lambda: 0.01\n",
            "sum of squared residuals: 2104341.151290386\n",
            "R^2: 0.9988616744771733\n",
            "*********************\n",
            "lambda: 0.1\n",
            "sum of squared residuals: 2106608.7450480876\n",
            "R^2: 0.9988604478415357\n",
            "*********************\n",
            "lambda: 1.0\n",
            "sum of squared residuals: 2222380.952827697\n",
            "R^2: 0.9987978218462836\n",
            "*********************\n",
            "lambda: 10.0\n",
            "sum of squared residuals: 2912020.070869435\n",
            "R^2: 0.9984247674063582\n",
            "*********************\n",
            "lambda: 100.0\n",
            "sum of squared residuals: 3260487.0919998987\n",
            "R^2: 0.99823626712266\n",
            "*********************\n"
          ]
        }
      ]
    },
    {
      "cell_type": "code",
      "source": [
        "from sklearn import linear_model\n",
        "alphas = np.array([1e-3,1e-2,0.1,1,10,100])\n",
        "\n",
        "for alpha_ in alphas:\n",
        "  clf = linear_model.Ridge(alpha=alpha_)\n",
        "  clf.fit(X_train, y_train)\n",
        "  print('alpha:',alpha_)\n",
        "  print(clf.coef_)\n",
        "  print(clf.intercept_)\n",
        "  y_pred = clf.predict(X_train)\n",
        "  R2=r2_score(y_train,y_pred)\n",
        "  mse = mean_squared_error(y_train, y_train_predict)\n",
        "  print('R2 score:',R2)\n",
        "  print('RMSE:',np.sqrt(mse))\n",
        "  print('************************')"
      ],
      "metadata": {
        "colab": {
          "base_uri": "https://localhost:8080/"
        },
        "id": "M9NWDazaTiy5",
        "outputId": "e3686c59-9bdb-4e02-d0e5-f8c3b11fdcf3"
      },
      "execution_count": null,
      "outputs": [
        {
          "output_type": "stream",
          "name": "stdout",
          "text": [
            "alpha: 0.001\n",
            "[ 2.41736824 27.85816106  2.67476188 13.06360081  0.        ]\n",
            "-740.7760505670103\n",
            "R2 score: 0.8638153791855416\n",
            "RMSE: 344.7661382704816\n",
            "************************\n",
            "alpha: 0.01\n",
            "[ 2.41748646 27.85814533  2.67481999 13.06330261  0.        ]\n",
            "-740.7735351118818\n",
            "R2 score: 0.8638153791827705\n",
            "RMSE: 344.7661382704816\n",
            "************************\n",
            "alpha: 0.1\n",
            "[ 2.4186676  27.85798802  2.67540079 13.06032169  0.        ]\n",
            "-740.748382291478\n",
            "R2 score: 0.863815378905816\n",
            "RMSE: 344.7661382704816\n",
            "************************\n",
            "alpha: 1.0\n",
            "[ 2.43037181 27.85641466  2.68117406 13.03062924  0.        ]\n",
            "-740.4970275920834\n",
            "R2 score: 0.8638153513622491\n",
            "RMSE: 344.7661382704816\n",
            "************************\n",
            "alpha: 10.0\n",
            "[ 2.53732267 27.84065979  2.73562232 12.74481529  0.        ]\n",
            "-738.0012066476768\n",
            "R2 score: 0.863812738950328\n",
            "RMSE: 344.7661382704816\n",
            "************************\n",
            "alpha: 100.0\n",
            "[ 2.99631586 27.68267123  3.07212492 10.63469103  0.        ]\n",
            "-714.9453244353454\n",
            "R2 score: 0.8636358961007076\n",
            "RMSE: 344.7661382704816\n",
            "************************\n"
          ]
        }
      ]
    },
    {
      "cell_type": "code",
      "source": [
        "from sklearn import linear_model\n",
        "alphas = np.array([1e-3,1e-2,0.1,1,10,100])\n",
        "\n",
        "for alpha_ in alphas:\n",
        "  clfL = linear_model.Lasso(alpha=alpha_)\n",
        "  clfL.fit(X_train, y_train)\n",
        "  print('alpha:',alpha_)\n",
        "  print(clfL.coef_)\n",
        "  print(clfL.intercept_)\n",
        "  y_pred = clfL.predict(X_train)\n",
        "  R2=r2_score(y_train,y_pred)\n",
        "  mse = mean_squared_error(y_train, y_train_predict)\n",
        "  print('R2 score:',R2)\n",
        "  print('RMSE:',np.sqrt(mse))\n",
        "  print('************************')"
      ],
      "metadata": {
        "colab": {
          "base_uri": "https://localhost:8080/"
        },
        "id": "8YqTYanZMlD9",
        "outputId": "9d3de172-d6b0-41fc-a0b4-0edb0a081103"
      },
      "execution_count": null,
      "outputs": [
        {
          "output_type": "stream",
          "name": "stdout",
          "text": [
            "alpha: 0.001\n",
            "[ 2.41698789 27.85815278  2.67467785 13.06360004  0.        ]\n",
            "-740.7717110628923\n",
            "R2 score: 0.863815379181545\n",
            "RMSE: 344.7661382704816\n",
            "************************\n",
            "alpha: 0.01\n",
            "[ 2.41367632 27.8580626   2.6739778  13.06329877  0.        ]\n",
            "-740.7301116101014\n",
            "R2 score: 0.8638153787823178\n",
            "RMSE: 344.7661382704816\n",
            "************************\n",
            "alpha: 0.1\n",
            "[ 2.38053489 27.85716096  2.66696992 13.0603009   0.        ]\n",
            "-740.3140084974452\n",
            "R2 score: 0.8638153388217695\n",
            "RMSE: 344.7661382704816\n",
            "************************\n",
            "alpha: 1.0\n",
            "[ 2.06205565 27.84806603  2.60059012 13.02284613  0.        ]\n",
            "-736.2076169885406\n",
            "R2 score: 0.8638114935779778\n",
            "RMSE: 344.7661382704816\n",
            "************************\n",
            "alpha: 10.0\n",
            "[ 0.         27.7647793   2.21725639 12.06739989  0.        ]\n",
            "-700.1413183830791\n",
            "R2 score: 0.8635416572483647\n",
            "RMSE: 344.7661382704816\n",
            "************************\n",
            "alpha: 100.0\n",
            "[ 0.         27.13144949  2.53024884  0.          0.        ]\n",
            "-519.3002928438432\n",
            "R2 score: 0.855709105428355\n",
            "RMSE: 344.7661382704816\n",
            "************************\n"
          ]
        }
      ]
    },
    {
      "cell_type": "code",
      "source": [
        "y_test_predict = clf.predict(X_test)\n",
        "y_test_predictL = clfL.predict(X_test) "
      ],
      "metadata": {
        "id": "oKrAgIMqYPtX"
      },
      "execution_count": null,
      "outputs": []
    },
    {
      "cell_type": "code",
      "source": [
        "print(y_test_predict)"
      ],
      "metadata": {
        "colab": {
          "base_uri": "https://localhost:8080/"
        },
        "id": "QUuQURQNF9dK",
        "outputId": "dbda9f27-7a2f-44c4-b6f7-4afba85a8332"
      },
      "execution_count": null,
      "outputs": [
        {
          "output_type": "stream",
          "name": "stdout",
          "text": [
            "[ 520.07959261  649.12803301  837.42400527  709.10156285  529.04927213\n",
            "  534.5868135   205.86803339  359.54446251  282.05928443  107.40840572\n",
            "  220.02892889  103.62263021 -194.4558779  -181.1818688  -190.75309073\n",
            " 1222.89843734  712.77767532  742.23357636  756.6507566   415.42334261\n",
            "   96.62418186  179.95921352  188.05099933  233.66289918  211.04416883\n",
            "  207.08401977  353.69402536  851.84201729  380.46908048  190.64992834\n",
            "  742.30261173  748.12280923  -15.97728452]\n"
          ]
        }
      ]
    },
    {
      "cell_type": "code",
      "source": [
        "print(y_test_predictL)"
      ],
      "metadata": {
        "colab": {
          "base_uri": "https://localhost:8080/"
        },
        "id": "ufXLIk4MF_36",
        "outputId": "d29736b7-34e0-4d26-a1ef-56335661d62f"
      },
      "execution_count": null,
      "outputs": [
        {
          "output_type": "stream",
          "name": "stdout",
          "text": [
            "[ 521.34675921  649.30049281  838.20853971  707.35876506  533.9705132\n",
            "  483.12485335  209.06972325  349.85759718  288.76302631  122.43198099\n",
            "  212.62441357  112.53371388 -137.71912239 -121.11709903 -121.11709903\n",
            " 1255.06620725  755.66464051  766.33432421  704.95643184  399.03250823\n",
            "   74.86049632  155.17261648  170.14372321  222.49519044  199.52490642\n",
            "  199.31452008  345.66894147  798.07520209  361.11860773  184.07524016\n",
            "  699.71303805  703.62117864  -24.72415359]\n"
          ]
        }
      ]
    },
    {
      "cell_type": "code",
      "source": [
        ""
      ],
      "metadata": {
        "id": "cxN7LsBpM7eZ"
      },
      "execution_count": null,
      "outputs": []
    }
  ]
}